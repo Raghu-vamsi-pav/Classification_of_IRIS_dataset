{
  "nbformat": 4,
  "nbformat_minor": 0,
  "metadata": {
    "colab": {
      "name": "Copy of Subramanyam Raghuvamsidhar.ipynb",
      "provenance": [],
      "collapsed_sections": []
    },
    "kernelspec": {
      "name": "python3",
      "display_name": "Python 3"
    }
  },
  "cells": [
    {
      "cell_type": "markdown",
      "metadata": {
        "id": "mJr_xEt9ucpq"
      },
      "source": [
        "# **Name: Subramanyam Raghuvamsidhar**\r\n",
        "# **Mail ID: raghuvamsidhars@gmail.com**"
      ]
    },
    {
      "cell_type": "code",
      "metadata": {
        "id": "Bhefw4-euuyL"
      },
      "source": [
        "#Importing libraries\r\n",
        "import pandas as pd\r\n",
        "import numpy as np"
      ],
      "execution_count": null,
      "outputs": []
    },
    {
      "cell_type": "code",
      "metadata": {
        "id": "mUYGQZI7t3Z9"
      },
      "source": [
        "#Getting the datasets from sklearn library\r\n",
        "from sklearn.datasets import load_iris\r\n",
        "iris_datasets = load_iris()"
      ],
      "execution_count": null,
      "outputs": []
    },
    {
      "cell_type": "code",
      "metadata": {
        "colab": {
          "base_uri": "https://localhost:8080/"
        },
        "id": "wL063NxPuKOf",
        "outputId": "d90acc28-00bf-42d9-e5b8-d37e787b9d95"
      },
      "source": [
        "#printing the keys that are presemt in the dataset\r\n",
        "print('keys of iris_datasets: \\n{}'.format(iris_datasets.keys()))"
      ],
      "execution_count": null,
      "outputs": [
        {
          "output_type": "stream",
          "text": [
            "keys of iris_datasets: \n",
            "dict_keys(['data', 'target', 'target_names', 'DESCR', 'feature_names', 'filename'])\n"
          ],
          "name": "stdout"
        }
      ]
    },
    {
      "cell_type": "code",
      "metadata": {
        "colab": {
          "base_uri": "https://localhost:8080/"
        },
        "id": "bEvVEl4vxI2-",
        "outputId": "f8c535b2-7fe5-4198-ecd5-ecb00dba34e9"
      },
      "source": [
        "#This gives a basic description of the dataset that was provoded by sklearn library\r\n",
        "print(iris_datasets['DESCR'][:193]+\"\\n...\")"
      ],
      "execution_count": null,
      "outputs": [
        {
          "output_type": "stream",
          "text": [
            ".. _iris_dataset:\n",
            "\n",
            "Iris plants dataset\n",
            "--------------------\n",
            "\n",
            "**Data Set Characteristics:**\n",
            "\n",
            "    :Number of Instances: 150 (50 in each of three classes)\n",
            "    :Number of Attributes: 4 numeric, pre\n",
            "...\n"
          ],
          "name": "stdout"
        }
      ]
    },
    {
      "cell_type": "code",
      "metadata": {
        "colab": {
          "base_uri": "https://localhost:8080/"
        },
        "id": "cHUlE0NrxI6d",
        "outputId": "f32ff914-557b-4468-b047-b700acf0875b"
      },
      "source": [
        "#This gives a basic idea of what are the types of flower are present\r\n",
        "print('Target names:{}'.format(iris_datasets['target_names']))"
      ],
      "execution_count": null,
      "outputs": [
        {
          "output_type": "stream",
          "text": [
            "Target names:['setosa' 'versicolor' 'virginica']\n"
          ],
          "name": "stdout"
        }
      ]
    },
    {
      "cell_type": "code",
      "metadata": {
        "colab": {
          "base_uri": "https://localhost:8080/"
        },
        "id": "k6ZNZuCaxJO3",
        "outputId": "617f2fce-b16b-4b9c-b96f-459ac226b23a"
      },
      "source": [
        "#Printing the names of the features\r\n",
        "print('Feature names: \\n{}'.format(iris_datasets['feature_names']))\r\n"
      ],
      "execution_count": null,
      "outputs": [
        {
          "output_type": "stream",
          "text": [
            "Feature names: \n",
            "['sepal length (cm)', 'sepal width (cm)', 'petal length (cm)', 'petal width (cm)']\n"
          ],
          "name": "stdout"
        }
      ]
    },
    {
      "cell_type": "code",
      "metadata": {
        "colab": {
          "base_uri": "https://localhost:8080/"
        },
        "id": "o-QyqFWLxJR0",
        "outputId": "7732242a-4a30-4fa7-fe17-b6509204803d"
      },
      "source": [
        "#Now we are going to print the type of data\r\n",
        "print('Type of Data:{}'.format(type(iris_datasets['data'])))"
      ],
      "execution_count": null,
      "outputs": [
        {
          "output_type": "stream",
          "text": [
            "Type of Data:<class 'numpy.ndarray'>\n"
          ],
          "name": "stdout"
        }
      ]
    },
    {
      "cell_type": "markdown",
      "metadata": {
        "id": "zTTokppFTRxT"
      },
      "source": [
        "As we came to a conclusion that now we are going to deal with ndarray "
      ]
    },
    {
      "cell_type": "code",
      "metadata": {
        "colab": {
          "base_uri": "https://localhost:8080/"
        },
        "id": "mLlrOAorxJU5",
        "outputId": "c7817ae5-68de-4478-ee76-5f1f9aa24118"
      },
      "source": [
        "#Now we are going to know the shape of data or number of training examples\r\n",
        "print(\"shape of data: {}\".format(iris_datasets['data'].shape)) "
      ],
      "execution_count": null,
      "outputs": [
        {
          "output_type": "stream",
          "text": [
            "shape of data: (150, 4)\n"
          ],
          "name": "stdout"
        }
      ]
    },
    {
      "cell_type": "markdown",
      "metadata": {
        "id": "bbgxLs6pT-4O"
      },
      "source": [
        "As we came to conclusion that we are going  to deal with 150 training examples"
      ]
    },
    {
      "cell_type": "code",
      "metadata": {
        "colab": {
          "base_uri": "https://localhost:8080/"
        },
        "id": "vKI4LKpGUI0Y",
        "outputId": "921dfaf0-be74-475a-c956-cbce9746245c"
      },
      "source": [
        "#Printing the first 10 coloumns of the training data\r\n",
        "print('First 10 coloumn of data is: {}'.format(iris_datasets['data'][:10]))"
      ],
      "execution_count": null,
      "outputs": [
        {
          "output_type": "stream",
          "text": [
            "First 10 coloumn of data is: [[5.1 3.5 1.4 0.2]\n",
            " [4.9 3.  1.4 0.2]\n",
            " [4.7 3.2 1.3 0.2]\n",
            " [4.6 3.1 1.5 0.2]\n",
            " [5.  3.6 1.4 0.2]\n",
            " [5.4 3.9 1.7 0.4]\n",
            " [4.6 3.4 1.4 0.3]\n",
            " [5.  3.4 1.5 0.2]\n",
            " [4.4 2.9 1.4 0.2]\n",
            " [4.9 3.1 1.5 0.1]]\n"
          ],
          "name": "stdout"
        }
      ]
    },
    {
      "cell_type": "code",
      "metadata": {
        "colab": {
          "base_uri": "https://localhost:8080/"
        },
        "id": "hu-aG7QdU0JK",
        "outputId": "ba425822-7d9f-4bcf-a61d-0d7d6a299b15"
      },
      "source": [
        "#Printing the data type of target in the training data\r\n",
        "print('Target type: {}'.format(type(iris_datasets['target'])))"
      ],
      "execution_count": null,
      "outputs": [
        {
          "output_type": "stream",
          "text": [
            "Target type: <class 'numpy.ndarray'>\n"
          ],
          "name": "stdout"
        }
      ]
    },
    {
      "cell_type": "code",
      "metadata": {
        "colab": {
          "base_uri": "https://localhost:8080/"
        },
        "id": "SS55U2jXU1EN",
        "outputId": "801381f8-e8d3-44ae-bd06-6b95aca67571"
      },
      "source": [
        "#Now we are going to know the shape of target data\r\n",
        "print(\"shape of target: {}\".format(iris_datasets['target'].shape)) "
      ],
      "execution_count": null,
      "outputs": [
        {
          "output_type": "stream",
          "text": [
            "shape of target: (150,)\n"
          ],
          "name": "stdout"
        }
      ]
    },
    {
      "cell_type": "code",
      "metadata": {
        "colab": {
          "base_uri": "https://localhost:8080/"
        },
        "id": "DROui5k4U1Hd",
        "outputId": "d3a072cc-f6bd-4ac3-e034-7cd038f887b4"
      },
      "source": [
        "#Printing the values of targets\r\n",
        "print('Target: \\n{}'.format(iris_datasets['target']))"
      ],
      "execution_count": null,
      "outputs": [
        {
          "output_type": "stream",
          "text": [
            "Target: \n",
            "[0 0 0 0 0 0 0 0 0 0 0 0 0 0 0 0 0 0 0 0 0 0 0 0 0 0 0 0 0 0 0 0 0 0 0 0 0\n",
            " 0 0 0 0 0 0 0 0 0 0 0 0 0 1 1 1 1 1 1 1 1 1 1 1 1 1 1 1 1 1 1 1 1 1 1 1 1\n",
            " 1 1 1 1 1 1 1 1 1 1 1 1 1 1 1 1 1 1 1 1 1 1 1 1 1 1 2 2 2 2 2 2 2 2 2 2 2\n",
            " 2 2 2 2 2 2 2 2 2 2 2 2 2 2 2 2 2 2 2 2 2 2 2 2 2 2 2 2 2 2 2 2 2 2 2 2 2\n",
            " 2 2]\n"
          ],
          "name": "stdout"
        }
      ]
    },
    {
      "cell_type": "code",
      "metadata": {
        "id": "zIl4gYb4U1L6"
      },
      "source": [
        "#Splitting the data into training data and testing data by default it splits with 75:25 ratio\r\n",
        "from sklearn.model_selection import train_test_split\r\n",
        "X_train,X_test,y_train,y_test = train_test_split(iris_datasets['data'],iris_datasets['target'],random_state = 0)"
      ],
      "execution_count": null,
      "outputs": []
    },
    {
      "cell_type": "markdown",
      "metadata": {
        "id": "wv6RcGGwY5Ci"
      },
      "source": [
        "So finally we have splitted the iris data in train and test"
      ]
    },
    {
      "cell_type": "code",
      "metadata": {
        "colab": {
          "base_uri": "https://localhost:8080/"
        },
        "id": "NsQMtfLyY3wx",
        "outputId": "914a0fc7-f4c5-44d3-813e-60f281db7b92"
      },
      "source": [
        "#Printing the shapes of splitted data\r\n",
        "print('X_train shape: {}'.format(X_train.shape))\r\n",
        "print('X_test shape: {}'.format(X_test.shape))\r\n",
        "print('y_train shape: {}'.format(y_train.shape))\r\n",
        "print('y_test shape: {}'.format(y_test.shape))"
      ],
      "execution_count": null,
      "outputs": [
        {
          "output_type": "stream",
          "text": [
            "X_train shape: (112, 4)\n",
            "X_test shape: (38, 4)\n",
            "y_train shape: (112,)\n",
            "y_test shape: (38,)\n"
          ],
          "name": "stdout"
        }
      ]
    },
    {
      "cell_type": "markdown",
      "metadata": {
        "id": "JMGvSA-Zbhah"
      },
      "source": [
        "##Model Design and training\r\n"
      ]
    },
    {
      "cell_type": "markdown",
      "metadata": {
        "id": "0HubOdhhbuqD"
      },
      "source": [
        "Here we are going to use K_Nearest_Neighbours algorithm and the reason for using that algo is by visualising the data that was plotted in the demo video. "
      ]
    },
    {
      "cell_type": "code",
      "metadata": {
        "id": "Dl2C40M6Y32k"
      },
      "source": [
        "#Using sklearn library we are going to use KNN algo\r\n",
        "from sklearn.neighbors import KNeighborsClassifier\r\n",
        "knn = KNeighborsClassifier(n_neighbors = 1) "
      ],
      "execution_count": null,
      "outputs": []
    },
    {
      "cell_type": "code",
      "metadata": {
        "colab": {
          "base_uri": "https://localhost:8080/"
        },
        "id": "YUICWtS5Y334",
        "outputId": "4353910f-2d5a-4034-f322-1158592b1c80"
      },
      "source": [
        "knn.fit(X_train,y_train)"
      ],
      "execution_count": null,
      "outputs": [
        {
          "output_type": "execute_result",
          "data": {
            "text/plain": [
              "KNeighborsClassifier(algorithm='auto', leaf_size=30, metric='minkowski',\n",
              "                     metric_params=None, n_jobs=None, n_neighbors=1, p=2,\n",
              "                     weights='uniform')"
            ]
          },
          "metadata": {
            "tags": []
          },
          "execution_count": 32
        }
      ]
    },
    {
      "cell_type": "code",
      "metadata": {
        "colab": {
          "base_uri": "https://localhost:8080/"
        },
        "id": "4cY6RS10Y36G",
        "outputId": "c6c94f3b-500d-48c4-e967-8c290d7f8243"
      },
      "source": [
        "#Lets make a random example to check wheather the model can predict or not\r\n",
        "X_new = np.array([[4,1.9,2,0.4]])\r\n",
        "\r\n",
        "\r\n",
        "#Lets make the prediction for X_new\r\n",
        "Prediction = knn.predict(X_new)\r\n",
        "print('Prediction:{}'.format(Prediction))\r\n",
        "print(\"Prdicted type name is: {}\".format(iris_datasets['target_names'][Prediction]))"
      ],
      "execution_count": null,
      "outputs": [
        {
          "output_type": "stream",
          "text": [
            "Prediction:[0]\n",
            "Prdicted type name is: ['setosa']\n"
          ],
          "name": "stdout"
        }
      ]
    },
    {
      "cell_type": "code",
      "metadata": {
        "colab": {
          "base_uri": "https://localhost:8080/"
        },
        "id": "lT7qKHHee4td",
        "outputId": "eb9b2cac-4a68-4adc-8841-940e92f8c464"
      },
      "source": [
        "#Now we are going to predict the values for test dataset\r\n",
        "y_pred = knn.predict(X_test)\r\n",
        "print('Test set predictions: \\n{}'.format(y_pred))"
      ],
      "execution_count": null,
      "outputs": [
        {
          "output_type": "stream",
          "text": [
            "Test set predictions: \n",
            "[2 1 0 2 0 2 0 1 1 1 2 1 1 1 1 0 1 1 0 0 2 1 0 0 2 0 0 1 1 0 2 1 0 2 2 1 0\n",
            " 2]\n"
          ],
          "name": "stdout"
        }
      ]
    },
    {
      "cell_type": "code",
      "metadata": {
        "colab": {
          "base_uri": "https://localhost:8080/"
        },
        "id": "3Xa6sjSSfV1Y",
        "outputId": "26dc278b-0a37-4f28-fba1-7d714b92710e"
      },
      "source": [
        "#Printing the accuracy of our model on test dataset\r\n",
        "print('Accuracy of prediction on test dataset:{}'.format(np.mean(y_pred==y_test)))"
      ],
      "execution_count": null,
      "outputs": [
        {
          "output_type": "stream",
          "text": [
            "Accuracy of prediction on test dataset:0.9736842105263158\n"
          ],
          "name": "stdout"
        }
      ]
    },
    {
      "cell_type": "markdown",
      "metadata": {
        "id": "tlAQXSFLT9jJ"
      },
      "source": [
        "So, I got a accuracy of 97.3% on my test dataset which is very good.\r\n"
      ]
    }
  ]
}